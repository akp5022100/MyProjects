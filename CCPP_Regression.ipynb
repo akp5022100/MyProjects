{
 "cells": [
  {
   "cell_type": "code",
   "execution_count": 133,
   "metadata": {},
   "outputs": [],
   "source": [
    "import os\n",
    "import pandas as pd\n",
    "import numpy as np\n",
    "import sys"
   ]
  },
  {
   "cell_type": "code",
   "execution_count": 134,
   "metadata": {},
   "outputs": [],
   "source": [
    "def GradientStep(X,y,parameters):\n",
    "    m=X.shape[0]\n",
    "    y_pred=np.matmul(X,parameters)\n",
    "    diff=y_pred-y.reshape(-1,1)\n",
    "    changes=(2/m)*np.matmul(X.T,diff)\n",
    "    return changes\n",
    "    "
   ]
  },
  {
   "cell_type": "code",
   "execution_count": 135,
   "metadata": {},
   "outputs": [],
   "source": [
    "def GradientDescent(X,y,parameters,epochs,learning_rate):\n",
    "    for i in range(epochs):\n",
    "        changes=GradientStep(X,y,parameters)\n",
    "        parameters=parameters-learning_rate*changes\n",
    "    return parameters"
   ]
  },
  {
   "cell_type": "code",
   "execution_count": 136,
   "metadata": {},
   "outputs": [],
   "source": [
    "def LinearRegression(X,y,epochs=100,learning_rate=0.0001):\n",
    "    Ones=np.ones(X.shape[0]).reshape(-1,1)\n",
    "    X=np.concatenate((Ones,X),axis=1)\n",
    "    rows=X.shape[0]\n",
    "    cols=X.shape[1]\n",
    "    parameters=np.zeros(cols).reshape(-1,1)\n",
    "    parameters=GradientDescent(X,y,parameters,epochs,learning_rate)\n",
    "    return parameters"
   ]
  },
  {
   "cell_type": "code",
   "execution_count": 137,
   "metadata": {},
   "outputs": [],
   "source": [
    "def cost(y_pred,y):\n",
    "    return np.sum(np.square(y_pred-y))/(len(y))"
   ]
  },
  {
   "cell_type": "code",
   "execution_count": 138,
   "metadata": {},
   "outputs": [],
   "source": [
    "##Choose Best learning Rate\n",
    "lr=[ 0.0001*pow(2,i) for i in range(20)]\n",
    "def best_lr(X,y,lr_list=lr):\n",
    "    MinCost=sys.maxsize\n",
    "    BestLR=0\n",
    "    CostList=[]\n",
    "    for i in lr_list:\n",
    "        p=LinearRegression(X,y,learning_rate=i)\n",
    "        Ones=np.ones(X.shape[0]).reshape(-1,1)\n",
    "        y_pred=np.matmul(np.concatenate((Ones,X),axis=1),p).T[0]\n",
    "        temp=cost(y_pred,y.T[0])\n",
    "        CostList.append((i,temp))\n",
    "        if(temp<MinCost):\n",
    "            MinCost=temp\n",
    "            BestLR=i\n",
    "    return BestLR\n"
   ]
  },
  {
   "cell_type": "code",
   "execution_count": 139,
   "metadata": {},
   "outputs": [
    {
     "data": {
      "text/html": [
       "<div>\n",
       "<style scoped>\n",
       "    .dataframe tbody tr th:only-of-type {\n",
       "        vertical-align: middle;\n",
       "    }\n",
       "\n",
       "    .dataframe tbody tr th {\n",
       "        vertical-align: top;\n",
       "    }\n",
       "\n",
       "    .dataframe thead th {\n",
       "        text-align: right;\n",
       "    }\n",
       "</style>\n",
       "<table border=\"1\" class=\"dataframe\">\n",
       "  <thead>\n",
       "    <tr style=\"text-align: right;\">\n",
       "      <th></th>\n",
       "      <th># T</th>\n",
       "      <th>V</th>\n",
       "      <th>AP</th>\n",
       "      <th>RH</th>\n",
       "      <th>EP</th>\n",
       "    </tr>\n",
       "  </thead>\n",
       "  <tbody>\n",
       "    <tr>\n",
       "      <th>0</th>\n",
       "      <td>8.58</td>\n",
       "      <td>38.38</td>\n",
       "      <td>1021.03</td>\n",
       "      <td>84.37</td>\n",
       "      <td>482.26</td>\n",
       "    </tr>\n",
       "    <tr>\n",
       "      <th>1</th>\n",
       "      <td>21.79</td>\n",
       "      <td>58.20</td>\n",
       "      <td>1017.21</td>\n",
       "      <td>66.74</td>\n",
       "      <td>446.94</td>\n",
       "    </tr>\n",
       "    <tr>\n",
       "      <th>2</th>\n",
       "      <td>16.64</td>\n",
       "      <td>48.92</td>\n",
       "      <td>1011.55</td>\n",
       "      <td>78.76</td>\n",
       "      <td>452.56</td>\n",
       "    </tr>\n",
       "    <tr>\n",
       "      <th>3</th>\n",
       "      <td>31.38</td>\n",
       "      <td>71.32</td>\n",
       "      <td>1009.17</td>\n",
       "      <td>60.42</td>\n",
       "      <td>433.44</td>\n",
       "    </tr>\n",
       "    <tr>\n",
       "      <th>4</th>\n",
       "      <td>9.20</td>\n",
       "      <td>40.03</td>\n",
       "      <td>1017.05</td>\n",
       "      <td>92.46</td>\n",
       "      <td>480.38</td>\n",
       "    </tr>\n",
       "  </tbody>\n",
       "</table>\n",
       "</div>"
      ],
      "text/plain": [
       "     # T      V       AP     RH      EP\n",
       "0   8.58  38.38  1021.03  84.37  482.26\n",
       "1  21.79  58.20  1017.21  66.74  446.94\n",
       "2  16.64  48.92  1011.55  78.76  452.56\n",
       "3  31.38  71.32  1009.17  60.42  433.44\n",
       "4   9.20  40.03  1017.05  92.46  480.38"
      ]
     },
     "execution_count": 139,
     "metadata": {},
     "output_type": "execute_result"
    }
   ],
   "source": [
    "os.chdir(\"/home/abhishek/Downloads\")\n",
    "data = pd.read_csv(\"training_ccpp_x_y_train.csv\")\n",
    "data.head()"
   ]
  },
  {
   "cell_type": "code",
   "execution_count": 140,
   "metadata": {},
   "outputs": [],
   "source": [
    "X=data.iloc[:,:4].values\n",
    "y=data.iloc[:,4].values"
   ]
  },
  {
   "cell_type": "code",
   "execution_count": 141,
   "metadata": {},
   "outputs": [],
   "source": [
    "test_data=pd.read_csv('test_ccpp_x_test.csv',header=None)"
   ]
  },
  {
   "cell_type": "code",
   "execution_count": 142,
   "metadata": {},
   "outputs": [
    {
     "data": {
      "text/plain": [
       "(2392, 4)"
      ]
     },
     "execution_count": 142,
     "metadata": {},
     "output_type": "execute_result"
    }
   ],
   "source": [
    "X_train=X\n",
    "y_train=y\n",
    "X_test=test_data.values\n",
    "X_test.shape"
   ]
  },
  {
   "cell_type": "code",
   "execution_count": 143,
   "metadata": {},
   "outputs": [],
   "source": [
    "from sklearn.preprocessing import StandardScaler\n",
    "scX=StandardScaler()\n",
    "X_train=scX.fit_transform(X_train)\n",
    "X_test=scX.transform(X_test)\n",
    "scy=StandardScaler()\n",
    "y_train=scy.fit_transform(y_train.reshape(-1,1))"
   ]
  },
  {
   "cell_type": "code",
   "execution_count": 144,
   "metadata": {},
   "outputs": [],
   "source": [
    "def PredictY(X_train,y_train,X_test):\n",
    "    Lr=best_lr(X_train,y_train.reshape(-1,1))\n",
    "    parameters=LinearRegression(X_train,y_train.reshape(-1,1),learning_rate=Lr)\n",
    "    print(\"Best LR=\",Lr)\n",
    "    Ones=np.ones(X_test.shape[0]).reshape(-1,1)\n",
    "    X_test=np.concatenate((Ones,X_test),axis=1)\n",
    "    y_pred=np.matmul(X_test,parameters)\n",
    "    print(\"Parameters=\",parameters[:,0].tolist())\n",
    "    return y_pred"
   ]
  },
  {
   "cell_type": "code",
   "execution_count": 145,
   "metadata": {},
   "outputs": [
    {
     "name": "stdout",
     "output_type": "stream",
     "text": [
      "Best LR= 0.2048\n",
      "Parameters= [-1.4513132427538757e-15, -0.8632209587661576, -0.17380071075475212, 0.021638534250136652, -0.1345625629717746]\n",
      "[[469.98098067]\n",
      " [471.77625816]\n",
      " [433.81828786]\n",
      " ...\n",
      " [439.16331107]\n",
      " [450.77524233]\n",
      " [447.315503  ]]\n"
     ]
    },
    {
     "name": "stderr",
     "output_type": "stream",
     "text": [
      "/home/abhishek/anaconda3/lib/python3.6/site-packages/ipykernel_launcher.py:2: RuntimeWarning: overflow encountered in square\n",
      "  \n"
     ]
    }
   ],
   "source": [
    "y_pred=PredictY(X_train,y_train,X_test)\n",
    "y_pred=scy.inverse_transform(y_pred)\n",
    "#y_test=scy.inverse_transform(y_test)\n",
    "print(y_pred)\n",
    "#cost(y_pred,y_test)"
   ]
  },
  {
   "cell_type": "code",
   "execution_count": 146,
   "metadata": {},
   "outputs": [],
   "source": [
    "np.savetxt('ccpp_pred.csv', y_pred[:,0], delimiter=',')"
   ]
  }
 ],
 "metadata": {
  "kernelspec": {
   "display_name": "Python 3",
   "language": "python",
   "name": "python3"
  },
  "language_info": {
   "codemirror_mode": {
    "name": "ipython",
    "version": 3
   },
   "file_extension": ".py",
   "mimetype": "text/x-python",
   "name": "python",
   "nbconvert_exporter": "python",
   "pygments_lexer": "ipython3",
   "version": "3.6.5"
  }
 },
 "nbformat": 4,
 "nbformat_minor": 2
}
