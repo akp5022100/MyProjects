{
 "cells": [
  {
   "cell_type": "code",
   "execution_count": 1,
   "metadata": {},
   "outputs": [],
   "source": [
    "import numpy as np\n",
    "import pandas as pd"
   ]
  },
  {
   "cell_type": "code",
   "execution_count": 153,
   "metadata": {},
   "outputs": [],
   "source": [
    "X=np.array([[1,1],[1,0],[0,1],[1,1]])\n",
    "y=np.array([1,1,1,0])"
   ]
  },
  {
   "cell_type": "code",
   "execution_count": 79,
   "metadata": {},
   "outputs": [],
   "source": [
    "def sigmoid(z):\n",
    "    return 1/(1+np.exp(-z))"
   ]
  },
  {
   "cell_type": "code",
   "execution_count": 101,
   "metadata": {},
   "outputs": [],
   "source": [
    "def derivative_sigmoid(z):\n",
    "    return sigmoid(z)*(1-sigmoid(z))"
   ]
  },
  {
   "cell_type": "code",
   "execution_count": 154,
   "metadata": {},
   "outputs": [],
   "source": [
    "np.random.seed(0)\n",
    "Wh1=np.random.randn(2,2)\n",
    "bh1=np.random.randn(1,2)\n",
    "Wo=np.random.randn(2,1)\n",
    "bo=np.random.randn(1,1)"
   ]
  },
  {
   "cell_type": "code",
   "execution_count": 155,
   "metadata": {},
   "outputs": [],
   "source": [
    "def ForwardProp(X,Wh1,bh1,Wo,bo):\n",
    "    z1=np.matmul(X,Wh1)+bh1\n",
    "    a1=sigmoid(z1)\n",
    "    z2=np.matmul(a1,Wo)+bo\n",
    "    a2=sigmoid(z2)\n",
    "    return z1,z2,a1,a2\n",
    "    "
   ]
  },
  {
   "cell_type": "code",
   "execution_count": 156,
   "metadata": {},
   "outputs": [],
   "source": [
    "def backProp(X,y,Wh1,bh1,Wo,bo,lr):\n",
    "    z1,z2,a1,a2=ForwardProp(X,Wh1,bh1,Wo,bo)\n",
    "    \n",
    "    first_o=a2-y.reshape(-1,1)\n",
    "    second_o=derivative_sigmoid(z2)\n",
    "    first_two_o=first_o*second_o\n",
    "    changes_o=np.dot(z1.T,first_two_o)\n",
    "    changes_o_bias=np.sum(first_two_o,axis=0,keepdims=True)\n",
    "    \n",
    "    first_h=np.dot(first_two_o,Wo.T)\n",
    "    second_h=derivative_sigmoid(z1)\n",
    "    first_two_h=first_h*second_h\n",
    "    changes_h=np.dot(X.T,first_two_h)\n",
    "    changes_h_bias=np.sum(first_two_h,axis=0,keepdims=True)\n",
    "    \n",
    "    Wo=Wo-lr*changes_o\n",
    "    bo=bo-lr*changes_o_bias\n",
    "    \n",
    "    Wh1=Wh1-lr*changes_h\n",
    "    bh1=bh1-lr*changes_h_bias\n",
    "    \n",
    "    return Wh1,bh1,Wo,bo\n",
    "    \n",
    "    "
   ]
  },
  {
   "cell_type": "code",
   "execution_count": 157,
   "metadata": {},
   "outputs": [],
   "source": [
    "def NeuralNet(X,y,Wh1,bh1,Wo,bo,lr,epochs):\n",
    "    for i in range(epochs):\n",
    "        Wh1,bh1,Wo,bo=backProp(X,y,Wh1,bh1,Wo,bo,lr)\n",
    "    z1,z2,a1,a2=ForwardProp(X,Wh1,bh1,Wo,bo)\n",
    "    print(Wh1)\n",
    "    #print(z2)\n",
    "    return Wh1,bh1,Wh2,bh2,z2\n",
    "    "
   ]
  },
  {
   "cell_type": "code",
   "execution_count": 158,
   "metadata": {},
   "outputs": [
    {
     "name": "stdout",
     "output_type": "stream",
     "text": [
      "[[1.76489868 0.39935909]\n",
      " [0.98168485 2.24054478]]\n"
     ]
    },
    {
     "data": {
      "text/plain": [
       "(array([[1.76489868, 0.39935909],\n",
       "        [0.98168485, 2.24054478]]),\n",
       " array([[ 1.8721072 , -0.98040456]]),\n",
       " array([[ 0.09500884],\n",
       "        [-0.01513572]]),\n",
       " array([[-0.01032189]]),\n",
       " array([[0.78192775],\n",
       "        [0.87522253],\n",
       "        [0.74986269],\n",
       "        [0.78192775]]))"
      ]
     },
     "execution_count": 158,
     "metadata": {},
     "output_type": "execute_result"
    }
   ],
   "source": [
    "NeuralNet(X,y,Wh1,bh1,Wo,bo,0.01,100)"
   ]
  },
  {
   "cell_type": "code",
   "execution_count": null,
   "metadata": {},
   "outputs": [],
   "source": []
  },
  {
   "cell_type": "code",
   "execution_count": null,
   "metadata": {},
   "outputs": [],
   "source": []
  }
 ],
 "metadata": {
  "kernelspec": {
   "display_name": "Python 3",
   "language": "python",
   "name": "python3"
  },
  "language_info": {
   "codemirror_mode": {
    "name": "ipython",
    "version": 3
   },
   "file_extension": ".py",
   "mimetype": "text/x-python",
   "name": "python",
   "nbconvert_exporter": "python",
   "pygments_lexer": "ipython3",
   "version": "3.6.5"
  }
 },
 "nbformat": 4,
 "nbformat_minor": 2
}
