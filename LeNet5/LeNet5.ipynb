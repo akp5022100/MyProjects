{
 "cells": [
  {
   "cell_type": "code",
   "execution_count": 3,
   "metadata": {},
   "outputs": [],
   "source": [
    "#Importing the Dependencies\n",
    "import numpy as np \n",
    "import pandas as pd \n",
    "import matplotlib.pyplot as plt\n",
    "import seaborn as sns"
   ]
  },
  {
   "cell_type": "code",
   "execution_count": 4,
   "metadata": {},
   "outputs": [
    {
     "name": "stderr",
     "output_type": "stream",
     "text": [
      "C:\\Users\\DELL\\Anaconda3\\lib\\site-packages\\h5py\\__init__.py:36: FutureWarning: Conversion of the second argument of issubdtype from `float` to `np.floating` is deprecated. In future, it will be treated as `np.float64 == np.dtype(float).type`.\n",
      "  from ._conv import register_converters as _register_converters\n",
      "Using TensorFlow backend.\n"
     ]
    }
   ],
   "source": [
    "#Importing the Dependecies\n",
    "from keras.models import Sequential\n",
    "from keras.layers import Convolution2D,MaxPooling2D,Flatten,Dense\n"
   ]
  },
  {
   "cell_type": "code",
   "execution_count": 5,
   "metadata": {},
   "outputs": [
    {
     "name": "stdout",
     "output_type": "stream",
     "text": [
      "Found 39751 images belonging to 36 classes.\n",
      "Found 9917 images belonging to 36 classes.\n"
     ]
    }
   ],
   "source": [
    "#Image Preproceesing\n",
    "from keras.preprocessing.image import ImageDataGenerator\n",
    "train_datagen = ImageDataGenerator(\n",
    "        rescale=1./255,\n",
    "        shear_range=0.2,\n",
    "        zoom_range=0.2,\n",
    "        horizontal_flip=True)\n",
    "\n",
    "test_datagen = ImageDataGenerator(rescale=1./255)\n",
    "\n",
    "training_set = train_datagen.flow_from_directory(\n",
    "        'C:\\\\Users\\\\DELL\\\\Downloads\\\\LeNet 5\\\\English\\\\dataset\\\\train',\n",
    "        target_size=(32, 32),\n",
    "        batch_size=32,\n",
    "        class_mode='categorical')\n",
    "\n",
    "test_set = test_datagen.flow_from_directory(\n",
    "        'C:\\\\Users\\\\DELL\\\\Downloads\\\\LeNet 5\\\\English\\\\dataset\\\\test',\n",
    "        target_size=(32, 32),\n",
    "        batch_size=32,\n",
    "        class_mode='categorical')\n"
   ]
  },
  {
   "cell_type": "code",
   "execution_count": 6,
   "metadata": {},
   "outputs": [
    {
     "name": "stderr",
     "output_type": "stream",
     "text": [
      "C:\\Users\\DELL\\Anaconda3\\lib\\site-packages\\ipykernel_launcher.py:3: UserWarning: Update your `Conv2D` call to the Keras 2 API: `Conv2D(32, (3, 3), input_shape=(32, 32, 3..., activation=\"relu\")`\n",
      "  This is separate from the ipykernel package so we can avoid doing imports until\n",
      "C:\\Users\\DELL\\Anaconda3\\lib\\site-packages\\ipykernel_launcher.py:6: UserWarning: Update your `Dense` call to the Keras 2 API: `Dense(activation=\"relu\", units=128)`\n",
      "  \n",
      "C:\\Users\\DELL\\Anaconda3\\lib\\site-packages\\ipykernel_launcher.py:7: UserWarning: Update your `Dense` call to the Keras 2 API: `Dense(activation=\"softmax\", units=36)`\n",
      "  import sys\n"
     ]
    }
   ],
   "source": [
    "#Building the CNN\n",
    "classifier=Sequential()\n",
    "classifier.add(Convolution2D(32,3,3,input_shape=(32,32,3),activation='relu'))\n",
    "classifier.add(MaxPooling2D(pool_size=(2,2)))\n",
    "classifier.add(Flatten())\n",
    "classifier.add(Dense(output_dim=128,activation='relu'))\n",
    "classifier.add(Dense(output_dim=36,activation='softmax'))\n",
    "classifier.compile(optimizer='adam',loss='categorical_crossentropy',metrics=['accuracy'])\n"
   ]
  },
  {
   "cell_type": "code",
   "execution_count": 8,
   "metadata": {},
   "outputs": [
    {
     "name": "stdout",
     "output_type": "stream",
     "text": [
      "Epoch 1/3\n",
      "39751/39751 [==============================] - 5257s 132ms/step - loss: 0.5059 - acc: 0.8584 - val_loss: 0.4967 - val_acc: 0.8811\n",
      "Epoch 2/3\n",
      "39751/39751 [==============================] - 4602s 116ms/step - loss: 0.2635 - acc: 0.9205 - val_loss: 0.5221 - val_acc: 0.8883\n",
      "Epoch 3/3\n",
      "39751/39751 [==============================] - 4580s 115ms/step - loss: 0.1994 - acc: 0.9393 - val_loss: 0.6250 - val_acc: 0.8854\n"
     ]
    },
    {
     "data": {
      "text/plain": [
       "<keras.callbacks.History at 0x1da706a6898>"
      ]
     },
     "execution_count": 8,
     "metadata": {},
     "output_type": "execute_result"
    }
   ],
   "source": [
    "#Training the CNN\n",
    "classifier.fit_generator(\n",
    "        training_set,\n",
    "        steps_per_epoch=39751,\n",
    "        epochs=3,\n",
    "        validation_data=test_set,\n",
    "        validation_steps=9917)"
   ]
  },
  {
   "cell_type": "code",
   "execution_count": 7,
   "metadata": {},
   "outputs": [],
   "source": [
    "import h5py"
   ]
  },
  {
   "cell_type": "code",
   "execution_count": 11,
   "metadata": {},
   "outputs": [],
   "source": [
    "#Saving The Model For Later Use\n",
    "classifier.save('LeNet5.h5')"
   ]
  },
  {
   "cell_type": "code",
   "execution_count": 12,
   "metadata": {},
   "outputs": [],
   "source": [
    "import cv2 as cv"
   ]
  },
  {
   "cell_type": "code",
   "execution_count": 14,
   "metadata": {},
   "outputs": [
    {
     "data": {
      "text/plain": [
       "<matplotlib.image.AxesImage at 0x1da712f6e80>"
      ]
     },
     "execution_count": 14,
     "metadata": {},
     "output_type": "execute_result"
    },
    {
     "data": {
      "image/png": "[encoded data removed]",
      "text/plain": [
       "<matplotlib.figure.Figure at 0x1da71352048>"
      ]
     },
     "metadata": {},
     "output_type": "display_data"
    }
   ],
   "source": [
    "img=cv.imread('C:\\\\Users\\\\DELL\\\\Downloads\\\\LeNet 5\\\\English\\\\dataset\\\\test\\A\\\\img001-0000067.png')\n",
    "plt.imshow(img)"
   ]
  },
  {
   "cell_type": "code",
   "execution_count": 16,
   "metadata": {},
   "outputs": [
    {
     "name": "stdout",
     "output_type": "stream",
     "text": [
      "[[0. 0. 0. 0. 0. 0. 0. 0. 0. 0. 1. 0. 0. 0. 0. 0. 0. 0. 0. 0. 0. 0. 0. 0.\n",
      "  0. 0. 0. 0. 0. 0. 0. 0. 0. 0. 0. 0.]]\n"
     ]
    },
    {
     "data": {
      "text/plain": [
       "{'0': 0,\n",
       " '1': 1,\n",
       " '2': 2,\n",
       " '3': 3,\n",
       " '4': 4,\n",
       " '5': 5,\n",
       " '6': 6,\n",
       " '7': 7,\n",
       " '8': 8,\n",
       " '9': 9,\n",
       " 'A': 10,\n",
       " 'B': 11,\n",
       " 'C': 12,\n",
       " 'D': 13,\n",
       " 'E': 14,\n",
       " 'F': 15,\n",
       " 'G': 16,\n",
       " 'H': 17,\n",
       " 'I': 18,\n",
       " 'J': 19,\n",
       " 'K': 20,\n",
       " 'L': 21,\n",
       " 'M': 22,\n",
       " 'N': 23,\n",
       " 'O': 24,\n",
       " 'P': 25,\n",
       " 'Q': 26,\n",
       " 'R': 27,\n",
       " 'S': 28,\n",
       " 'T': 29,\n",
       " 'U': 30,\n",
       " 'V': 31,\n",
       " 'W': 32,\n",
       " 'X': 33,\n",
       " 'Y': 34,\n",
       " 'Z': 35}"
      ]
     },
     "execution_count": 16,
     "metadata": {},
     "output_type": "execute_result"
    }
   ],
   "source": [
    "from keras.preprocessing import image\n",
    "test_img=image.load_img('C:\\\\Users\\\\DELL\\\\Downloads\\\\LeNet 5\\\\English\\\\dataset\\\\test\\A\\\\img001-0000067.png',target_size=(32,32))\n",
    "test_immg=image.img_to_array(test_img)\n",
    "test_img=np.expand_dims(test_img,axis=0)\n",
    "result=classifier.predict(test_img)\n",
    "print(result)\n",
    "training_set.class_indices\n"
   ]
  },
  {
   "cell_type": "code",
   "execution_count": 38,
   "metadata": {},
   "outputs": [
    {
     "name": "stdout",
     "output_type": "stream",
     "text": [
      "10\n"
     ]
    }
   ],
   "source": [
    "for i in np.arange(len(result[0])):\n",
    "    if result[0][i] ==1:\n",
    "        print(i)"
   ]
  },
  {
   "cell_type": "code",
   "execution_count": null,
   "metadata": {},
   "outputs": [],
   "source": [
    "# 10=A"
   ]
  }
 ],
 "metadata": {
  "kernelspec": {
   "display_name": "Python 3",
   "language": "python",
   "name": "python3"
  },
  "language_info": {
   "codemirror_mode": {
    "name": "ipython",
    "version": 3
   },
   "file_extension": ".py",
   "mimetype": "text/x-python",
   "name": "python",
   "nbconvert_exporter": "python",
   "pygments_lexer": "ipython3",
   "version": "3.6.4"
  }
 },
 "nbformat": 4,
 "nbformat_minor": 2
}
