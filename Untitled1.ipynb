{
 "cells": [
  {
   "cell_type": "code",
   "execution_count": 1,
   "metadata": {},
   "outputs": [
    {
     "name": "stderr",
     "output_type": "stream",
     "text": [
      "/home/abhishek/anaconda3/lib/python3.6/site-packages/h5py/__init__.py:36: FutureWarning: Conversion of the second argument of issubdtype from `float` to `np.floating` is deprecated. In future, it will be treated as `np.float64 == np.dtype(float).type`.\n",
      "  from ._conv import register_converters as _register_converters\n"
     ]
    }
   ],
   "source": [
    "import numpy as np\n",
    "import tensorflow as tf"
   ]
  },
  {
   "cell_type": "code",
   "execution_count": 101,
   "metadata": {},
   "outputs": [],
   "source": [
    "def softmax(y):\n",
    "    if(a.ndim==1):\n",
    "        return np.exp(y)/np.sum(np.exp(y))\n",
    "    r,c=y.shape\n",
    "    y_softmax=np.zeros(r*c).reshape(r,c)\n",
    "    for i in range(r):\n",
    "        y_softmax[i,:]=np.exp(y[i,:])/np.sum(np.exp(y[i,:]))\n",
    "    return y_softmax"
   ]
  },
  {
   "cell_type": "code",
   "execution_count": 40,
   "metadata": {},
   "outputs": [],
   "source": [
    "np.random.seed(1)\n",
    "da=5 ;dx=3;m=10;dy=2\n",
    "parameters={\n",
    "    'Waa':np.random.randn(da,da),\n",
    "    'Wax':np.random.randn(da,dx),\n",
    "    'Wya':np.random.randn(dy,da),\n",
    "    'ba':np.random.randn(da,1),\n",
    "    'by':np.random.randn(dy,1),\n",
    "}"
   ]
  },
  {
   "cell_type": "code",
   "execution_count": 122,
   "metadata": {},
   "outputs": [],
   "source": [
    "### Calculation At time step-t\n",
    "\n",
    "def rnn_timeT(Xt,a_prev,parameters):\n",
    "    Waa=parameters[\"Waa\"]\n",
    "    Wax=parameters[\"Wax\"]\n",
    "    Wya=parameters[\"Wya\"]\n",
    "    ba=parameters[\"ba\"]\n",
    "    by=parameters[\"by\"]\n",
    " \n",
    "    Wa=np.concatenate((Waa,Wax),axis=1)\n",
    "    a=np.concatenate((a_prev,Xt),axis=0)\n",
    "    \n",
    "    a_next=np.tanh(np.dot(Wa,a)+ba)\n",
    "    ypred_t=softmax(np.dot(Wya,a_next)+by)\n",
    "    \n",
    "    cache=(a_next,ypred_t,Xt,parameters)\n",
    "    \n",
    "    return a_next,ypred_t,cache"
   ]
  },
  {
   "cell_type": "code",
   "execution_count": 135,
   "metadata": {},
   "outputs": [],
   "source": [
    "### Forward Propagation Of RNN\n",
    "\n",
    "def rnn_forward(X,a_prev,parameters):\n",
    "    nx,m,Tx=np.shape(X)    \n",
    "    Wya=parameters[\"Wya\"]\n",
    "    \n",
    "    dy,da=Wya.shape\n",
    "    a_prev=np.random.randn(da,m)\n",
    "    y_preds=np.zeros((dy,m,Tx))\n",
    "    a_preds=np.zeros((da,m,Tx))\n",
    "    caches=[]\n",
    "    for t in range(Tx):\n",
    "        a_next,ypred_t,cache=rnn_timeT(X[:,:,t],a_prev,parameters)\n",
    "        a_prev=a_next\n",
    "        y_preds[:,:,t]=ypred_t\n",
    "        a_preds[:,:,t]=a_next\n",
    "        caches.append(cache)\n",
    "    caches=(caches,X)\n",
    "    return a_preds,y_preds,caches\n",
    "        "
   ]
  },
  {
   "cell_type": "code",
   "execution_count": 136,
   "metadata": {},
   "outputs": [
    {
     "name": "stdout",
     "output_type": "stream",
     "text": [
      "(5, 10, 4) (2, 10, 4)\n",
      "a[4][1] =  [ 0.76872174  0.99938678 -0.99845606 -0.99854009]\n",
      "a.shape =  (5, 10, 4)\n",
      "y_pred[1][3] = [0.07064457 0.0685364  0.02823762 0.10458415]\n",
      "y_pred.shape =  (2, 10, 4)\n",
      "caches[1][1][3] = [-1.1425182  -0.34934272 -0.20889423  0.58662319]\n",
      "len(caches) =  2\n"
     ]
    }
   ],
   "source": [
    "np.random.seed(1)\n",
    "x = np.random.randn(3,10,4)\n",
    "a0 = np.random.randn(5,10)\n",
    "Waa = np.random.randn(5,5)\n",
    "Wax = np.random.randn(5,3)\n",
    "Wya = np.random.randn(2,5)\n",
    "ba = np.random.randn(5,1)\n",
    "by = np.random.randn(2,1)\n",
    "parameters = {\"Waa\": Waa, \"Wax\": Wax, \"Wya\": Wya, \"ba\": ba, \"by\": by}\n",
    "\n",
    "a, y_pred, caches = rnn_forward(x, a0, parameters)\n",
    "print(a.shape,y_pred.shape)\n",
    "print(\"a[4][1] = \", a[4][1])\n",
    "print(\"a.shape = \", a.shape)\n",
    "print(\"y_pred[1][3] =\", y_pred[1][3])\n",
    "print(\"y_pred.shape = \", y_pred.shape)\n",
    "print(\"caches[1][1][3] =\", caches[1][1][3])\n",
    "print(\"len(caches) = \", len(caches))"
   ]
  },
  {
   "cell_type": "code",
   "execution_count": 119,
   "metadata": {},
   "outputs": [
    {
     "name": "stdout",
     "output_type": "stream",
     "text": [
      "a_next[4] =  [ 0.59584544  0.18141802  0.61311866  0.99808218  0.85016201  0.99980978\n",
      " -0.18887155  0.99815551  0.6531151   0.82872037]\n",
      "a_next.shape =  (5, 10)\n",
      "yt_pred[1] = 0.0006624948176613708\n",
      "yt_pred.shape =  (10,)\n"
     ]
    }
   ],
   "source": [
    "np.random.seed(1)\n",
    "xt = np.random.randn(3,10)\n",
    "a_prev = np.random.randn(5,10)\n",
    "Waa = np.random.randn(5,5)\n",
    "Wax = np.random.randn(5,3)\n",
    "Wya = np.random.randn(2,5)\n",
    "ba = np.random.randn(5,1)\n",
    "by = np.random.randn(2,1)\n",
    "parameters = {\"Waa\": Waa, \"Wax\": Wax, \"Wya\": Wya, \"ba\": ba, \"by\": by}\n",
    "\n",
    "#a_next, yt_pred, cache = rnn_timeT(xt,parameters,a_prev)\n",
    "print(\"a_next[4] = \", a_next[4])\n",
    "print(\"a_next.shape = \", a_next.shape)\n",
    "print(\"yt_pred[1] =\", yt_pred[1])\n",
    "print(\"yt_pred.shape = \", yt_pred.shape)\n"
   ]
  },
  {
   "cell_type": "code",
   "execution_count": 150,
   "metadata": {},
   "outputs": [],
   "source": [
    "def sigmoid(z):\n",
    "    return 1/(1+np.exp(-z))"
   ]
  },
  {
   "cell_type": "code",
   "execution_count": 156,
   "metadata": {},
   "outputs": [],
   "source": [
    "def lstm_cell_forward(xt,a_prev,c_prev,parameters_lstm):\n",
    "    \n",
    "    Wf = parameters[\"Wf\"]\n",
    "    bf = parameters[\"bf\"]\n",
    "    Wi = parameters[\"Wi\"]\n",
    "    bi = parameters[\"bi\"]\n",
    "    Wc = parameters[\"Wc\"]\n",
    "    bc = parameters[\"bc\"]\n",
    "    Wo = parameters[\"Wo\"]\n",
    "    bo = parameters[\"bo\"]\n",
    "    Wy = parameters[\"Wy\"]\n",
    "    by = parameters[\"by\"]\n",
    "    \n",
    "    a=np.concatenate((a_prev,xt),axis=0)\n",
    "    \n",
    "    ft=sigmoid(np.dot(Wf,a)+bf)\n",
    "    it=sigmoid(np.dot(Wf,a)+bi)\n",
    "    cct=np.tanh(np.dot(Wc,a)+bc)\n",
    "    c_next=it*cct+ft*c_prev\n",
    "    ot=sigmoid(np.dot(Wo,a)+bo)\n",
    "    a_next=ot*np.tanh(c_next)\n",
    "    \n",
    "    yt_pred=softmax(np.dot(Wy,a_next)+by)\n",
    "    cache=(a_next,c_next,a_prev,c_prev,ft,it,cct,ot,xt,parameters)\n",
    "    \n",
    "    return a_next,c_next,yt_pred,cache"
   ]
  },
  {
   "cell_type": "code",
   "execution_count": 157,
   "metadata": {},
   "outputs": [
    {
     "name": "stdout",
     "output_type": "stream",
     "text": [
      "a_next[4] =  [-6.61034665e-01  1.30132290e-06  1.99816789e-02  1.10472103e-01\n",
      " -9.02503892e-01  1.84321373e-04  6.96154932e-01  5.99254644e-01\n",
      " -4.82840527e-04 -1.14914385e-01]\n",
      "a_next.shape =  (5, 10)\n",
      "c_next[2] =  [-0.03108657  0.36873069 -0.46962771 -0.12764451 -1.65572232  0.0648662\n",
      "  0.19927273 -0.3248586  -0.53008902 -0.37579692]\n",
      "c_next.shape =  (5, 10)\n",
      "yt[1] = [0.27558558 0.04996476 0.05020302 0.0809698  0.18870078 0.06502153\n",
      " 0.02736078 0.06294208 0.09572258 0.10352908]\n",
      "yt.shape =  (2, 10)\n",
      "cache[1][3] = [-0.09674012  1.02595065  0.9909388  -0.53590455  0.11898752 -0.30119224\n",
      "  0.19372256 -1.04846837  1.34412707 -0.26531237]\n",
      "len(cache) =  10\n"
     ]
    }
   ],
   "source": [
    "np.random.seed(1)\n",
    "xt = np.random.randn(3,10)\n",
    "a_prev = np.random.randn(5,10)\n",
    "c_prev = np.random.randn(5,10)\n",
    "Wf = np.random.randn(5, 5+3)\n",
    "bf = np.random.randn(5,1)\n",
    "Wi = np.random.randn(5, 5+3)\n",
    "bi = np.random.randn(5,1)\n",
    "Wo = np.random.randn(5, 5+3)\n",
    "bo = np.random.randn(5,1)\n",
    "Wc = np.random.randn(5, 5+3)\n",
    "bc = np.random.randn(5,1)\n",
    "Wy = np.random.randn(2,5)\n",
    "by = np.random.randn(2,1)\n",
    "\n",
    "parameters = {\"Wf\": Wf, \"Wi\": Wi, \"Wo\": Wo, \"Wc\": Wc, \"Wy\": Wy, \"bf\": bf, \"bi\": bi, \"bo\": bo, \"bc\": bc, \"by\": by}\n",
    "\n",
    "a_next, c_next, yt, cache = lstm_cell_forward(xt, a_prev, c_prev, parameters)\n",
    "print(\"a_next[4] = \", a_next[4])\n",
    "print(\"a_next.shape = \", c_next.shape)\n",
    "print(\"c_next[2] = \", c_next[2])\n",
    "print(\"c_next.shape = \", c_next.shape)\n",
    "print(\"yt[1] =\", yt[1])\n",
    "print(\"yt.shape = \", yt.shape)\n",
    "print(\"cache[1][3] =\", cache[1][3])\n",
    "print(\"len(cache) = \", len(cache))"
   ]
  },
  {
   "cell_type": "code",
   "execution_count": 163,
   "metadata": {},
   "outputs": [],
   "source": [
    "def lstm_forward(x,a0,parameters_lstm):\n",
    "    \n",
    "    nx,m,Tx=x.shape\n",
    "    dy=parameters[\"Wy\"].shape[0]\n",
    "    da=parameters[\"Wi\"].shape[0]\n",
    "    \n",
    "    y_preds=np.zeros((dy,m,Tx))\n",
    "    a_nexts=np.zeros((da,m,Tx))\n",
    "    c_nexts=np.zeros((da,m,Tx))\n",
    "    caches=[]\n",
    "    \n",
    "    # Initialise a_next and c_next\n",
    "    a_next=a0\n",
    "    c_next=np.zeros(a_next.shape)\n",
    "    \n",
    "    for t in range(Tx):\n",
    "        a_next,c_next,yt_pred,cache=lstm_cell_forward(x[:,:,t],a_next,c_next,parameters_lstm)\n",
    "        a_nexts[:,:,t]=a_next\n",
    "        c_nexts[:,:,t]=c_next\n",
    "        y_preds[:,:,t]=yt_pred\n",
    "        caches.append(cache)\n",
    "    \n",
    "    caches=(cache,x)\n",
    "    \n",
    "    return a_nexts,c_nexts,y_preds,caches\n",
    "        "
   ]
  },
  {
   "cell_type": "code",
   "execution_count": 164,
   "metadata": {},
   "outputs": [
    {
     "name": "stdout",
     "output_type": "stream",
     "text": [
      "a[4][3][6] =  0.08534587220849396\n",
      "a.shape =  (5, 10, 7)\n",
      "y[1][4][3] = 0.083572488373044\n",
      "y.shape =  (5, 10, 7)\n",
      "caches[1][1[1]] = [ 0.82797464  0.23009474  0.76201118 -0.22232814 -0.20075807  0.18656139\n",
      "  0.41005165]\n",
      "c[1][2][1] 0.14763775832383502\n",
      "len(caches) =  2\n"
     ]
    }
   ],
   "source": [
    "np.random.seed(1)\n",
    "x = np.random.randn(3,10,7)\n",
    "a0 = np.random.randn(5,10)\n",
    "Wf = np.random.randn(5, 5+3)\n",
    "bf = np.random.randn(5,1)\n",
    "Wi = np.random.randn(5, 5+3)\n",
    "bi = np.random.randn(5,1)\n",
    "Wo = np.random.randn(5, 5+3)\n",
    "bo = np.random.randn(5,1)\n",
    "Wc = np.random.randn(5, 5+3)\n",
    "bc = np.random.randn(5,1)\n",
    "Wy = np.random.randn(2,5)\n",
    "by = np.random.randn(2,1)\n",
    "\n",
    "parameters = {\"Wf\": Wf, \"Wi\": Wi, \"Wo\": Wo, \"Wc\": Wc, \"Wy\": Wy, \"bf\": bf, \"bi\": bi, \"bo\": bo, \"bc\": bc, \"by\": by}\n",
    "\n",
    "a, y, c, caches = lstm_forward(x, a0, parameters)\n",
    "print(\"a[4][3][6] = \", a[4][3][6])\n",
    "print(\"a.shape = \", a.shape)\n",
    "print(\"y[1][4][3] =\", y[1][4][3])\n",
    "print(\"y.shape = \", y.shape)\n",
    "print(\"caches[1][1[1]] =\", caches[1][1][1])\n",
    "print(\"c[1][2][1]\", c[1][2][1])\n",
    "print(\"len(caches) = \", len(caches))"
   ]
  },
  {
   "cell_type": "code",
   "execution_count": null,
   "metadata": {},
   "outputs": [],
   "source": []
  }
 ],
 "metadata": {
  "kernelspec": {
   "display_name": "Python 3",
   "language": "python",
   "name": "python3"
  },
  "language_info": {
   "codemirror_mode": {
    "name": "ipython",
    "version": 3
   },
   "file_extension": ".py",
   "mimetype": "text/x-python",
   "name": "python",
   "nbconvert_exporter": "python",
   "pygments_lexer": "ipython3",
   "version": "3.6.5"
  }
 },
 "nbformat": 4,
 "nbformat_minor": 2
}
