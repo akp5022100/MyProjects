{
 "cells": [
  {
   "cell_type": "code",
   "execution_count": 1,
   "metadata": {},
   "outputs": [
    {
     "name": "stderr",
     "output_type": "stream",
     "text": [
      "/home/abhishek/anaconda3/lib/python3.6/site-packages/h5py/__init__.py:36: FutureWarning: Conversion of the second argument of issubdtype from `float` to `np.floating` is deprecated. In future, it will be treated as `np.float64 == np.dtype(float).type`.\n",
      "  from ._conv import register_converters as _register_converters\n"
     ]
    }
   ],
   "source": [
    "import numpy as np\n",
    "import tensorflow as tf"
   ]
  },
  {
   "cell_type": "code",
   "execution_count": 2,
   "metadata": {},
   "outputs": [],
   "source": [
    "sess=tf.Session()"
   ]
  },
  {
   "cell_type": "code",
   "execution_count": 3,
   "metadata": {},
   "outputs": [],
   "source": [
    "### RNN_CELL_FORWARD\n",
    "\n",
    "def rnn_cell_forward(xt,a_prev,parameters):\n",
    "    \n",
    "    Wax=parameters[\"Wax\"]\n",
    "    Waa=parameters[\"Waa\"]\n",
    "    Wya=parameters[\"Wya\"]\n",
    "    ba=parameters[\"ba\"]\n",
    "    by=parameters[\"by\"]\n",
    "    \n",
    "    a_next=np.tanh(np.dot(Waa,a_prev)+np.dot(Wax,xt)+ba)\n",
    "    yt_pred=sess.run(tf.nn.softmax(np.dot(Wya,a_next)+by))\n",
    "    \n",
    "    cache=(a_next,a_prev,xt,parameters)\n",
    "    \n",
    "    return a_next,yt_pred,cache"
   ]
  },
  {
   "cell_type": "code",
   "execution_count": 4,
   "metadata": {},
   "outputs": [
    {
     "name": "stdout",
     "output_type": "stream",
     "text": [
      "a_next[4] =  [ 0.59584544  0.18141802  0.61311866  0.99808218  0.85016201  0.99980978\n",
      " -0.18887155  0.99815551  0.6531151   0.82872037]\n",
      "a_next.shape =  (5, 10)\n",
      "yt_pred[1] = [0.19872856 0.00066249 0.00214437 0.00257758 0.0441077  0.00921221\n",
      " 0.01102142 0.23530417 0.48830784 0.00793366]\n",
      "yt_pred.shape =  (2, 10)\n"
     ]
    }
   ],
   "source": [
    "np.random.seed(1)\n",
    "xt = np.random.randn(3,10)\n",
    "a_prev = np.random.randn(5,10)\n",
    "Waa = np.random.randn(5,5)\n",
    "Wax = np.random.randn(5,3)\n",
    "Wya = np.random.randn(2,5)\n",
    "ba = np.random.randn(5,1)\n",
    "by = np.random.randn(2,1)\n",
    "parameters = {\"Waa\": Waa, \"Wax\": Wax, \"Wya\": Wya, \"ba\": ba, \"by\": by}\n",
    "\n",
    "a_next, yt_pred, cache = rnn_cell_forward(xt, a_prev, parameters)\n",
    "print(\"a_next[4] = \", a_next[4])\n",
    "print(\"a_next.shape = \", a_next.shape)\n",
    "print(\"yt_pred[1] =\", yt_pred[1])\n",
    "print(\"yt_pred.shape = \", yt_pred.shape)"
   ]
  },
  {
   "cell_type": "code",
   "execution_count": 5,
   "metadata": {},
   "outputs": [],
   "source": [
    "def rnn_forward(x,a0,parameters):\n",
    "    \n",
    "    caches=[]\n",
    "    "
   ]
  },
  {
   "cell_type": "code",
   "execution_count": 6,
   "metadata": {},
   "outputs": [
    {
     "data": {
      "text/plain": [
       "array([[-0.02461696, -0.77516162,  1.27375593,  1.96710175, -1.85798186],\n",
       "       [ 1.23616403,  1.62765075,  0.3380117 , -1.19926803,  0.86334532]])"
      ]
     },
     "execution_count": 6,
     "metadata": {},
     "output_type": "execute_result"
    }
   ],
   "source": [
    "Wya"
   ]
  },
  {
   "cell_type": "code",
   "execution_count": 9,
   "metadata": {},
   "outputs": [
    {
     "data": {
      "text/plain": [
       "array([[-1.76997444,  1.07658729, -0.50058125, -1.09297351, -3.37670313,\n",
       "        -2.44450824,  0.35560085, -2.80882702, -2.73870607,  1.02484923],\n",
       "       [ 1.5679518 , -4.13573059, -2.96114155, -2.77713609,  0.06264623,\n",
       "        -1.50345841, -1.32414696,  1.73689096,  2.46695798, -1.65287367]])"
      ]
     },
     "execution_count": 9,
     "metadata": {},
     "output_type": "execute_result"
    }
   ],
   "source": [
    "np.dot(Wya,a_next)"
   ]
  },
  {
   "cell_type": "code",
   "execution_count": 10,
   "metadata": {},
   "outputs": [
    {
     "data": {
      "text/plain": [
       "array([[-0.62353073],\n",
       "       [ 0.52057634]])"
      ]
     },
     "execution_count": 10,
     "metadata": {},
     "output_type": "execute_result"
    }
   ],
   "source": [
    "by"
   ]
  },
  {
   "cell_type": "code",
   "execution_count": 11,
   "metadata": {},
   "outputs": [
    {
     "data": {
      "text/plain": [
       "array([[-2.39350517,  0.45305656, -1.12411198, -1.71650424, -4.00023386,\n",
       "        -3.06803897, -0.26792988, -3.43235775, -3.3622368 ,  0.4013185 ],\n",
       "       [ 2.08852814, -3.61515426, -2.44056522, -2.25655976,  0.58322257,\n",
       "        -0.98288207, -0.80357062,  2.2574673 ,  2.98753431, -1.13229733]])"
      ]
     },
     "execution_count": 11,
     "metadata": {},
     "output_type": "execute_result"
    }
   ],
   "source": [
    "(np.dot(Wya,a_next)+by)"
   ]
  },
  {
   "cell_type": "code",
   "execution_count": 12,
   "metadata": {},
   "outputs": [
    {
     "data": {
      "text/plain": [
       "array([[0.02002566, 0.34501102, 0.07126518, 0.03940984, 0.004016  ,\n",
       "        0.01020095, 0.16776932, 0.00708629, 0.00760102, 0.32761472],\n",
       "       [0.19872856, 0.00066249, 0.00214437, 0.00257758, 0.0441077 ,\n",
       "        0.00921221, 0.01102142, 0.23530417, 0.48830784, 0.00793366]])"
      ]
     },
     "execution_count": 12,
     "metadata": {},
     "output_type": "execute_result"
    }
   ],
   "source": [
    "sess.run(tf.nn.softmax((np.dot(Wya,a_next)+by)))"
   ]
  },
  {
   "cell_type": "code",
   "execution_count": null,
   "metadata": {},
   "outputs": [],
   "source": []
  }
 ],
 "metadata": {
  "kernelspec": {
   "display_name": "Python 3",
   "language": "python",
   "name": "python3"
  },
  "language_info": {
   "codemirror_mode": {
    "name": "ipython",
    "version": 3
   },
   "file_extension": ".py",
   "mimetype": "text/x-python",
   "name": "python",
   "nbconvert_exporter": "python",
   "pygments_lexer": "ipython3",
   "version": "3.6.5"
  }
 },
 "nbformat": 4,
 "nbformat_minor": 2
}
