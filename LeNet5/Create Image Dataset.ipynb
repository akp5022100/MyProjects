{
 "cells": [
  {
   "cell_type": "code",
   "execution_count": 25,
   "metadata": {},
   "outputs": [],
   "source": [
    "#Importing the packages\n",
    "import numpy as np \n",
    "import pandas as pd \n",
    "import matplotlib.pyplot as plt"
   ]
  },
  {
   "cell_type": "code",
   "execution_count": 26,
   "metadata": {},
   "outputs": [],
   "source": [
    "import os \n",
    "import shutil\n",
    "import glob"
   ]
  },
  {
   "cell_type": "code",
   "execution_count": 23,
   "metadata": {},
   "outputs": [],
   "source": [
    "import cv2 as cv"
   ]
  },
  {
   "cell_type": "code",
   "execution_count": 22,
   "metadata": {},
   "outputs": [],
   "source": [
    "from PIL import Image\n",
    "img=Image.open('C:\\\\Users\\\\DELL\\\\Downloads\\\\LeNet 5\\\\English\\\\Img\\\\GoodImg\\\\Bmp\\\\Sample001\\\\img001-00003.png').convert('LA')\n",
    "img.save('C:\\\\Users\\\\DELL\\\\Downloads\\\\LeNet 5\\\\English\\\\Img\\\\GoodImg\\\\Bmp\\\\Sample001\\\\img001-00003.png')"
   ]
  },
  {
   "cell_type": "code",
   "execution_count": 42,
   "metadata": {},
   "outputs": [],
   "source": [
    "#Moving all images to the dataset folder by converting all images to grayscale\n",
    "for i in np.arange(1,63):\n",
    "    if i<10:\n",
    "        count=1\n",
    "        if not os.path.exists('C:\\\\Users\\\\DELL\\\\Downloads\\\\LeNet 5\\\\English\\\\Final\\\\Sample00'+str(i)):\n",
    "            os.makedirs('C:\\\\Users\\\\DELL\\\\Downloads\\\\LeNet 5\\\\English\\Final\\\\Sample00'+str(i))\n",
    "        src_dir = 'C:\\\\Users\\\\DELL\\\\Downloads\\\\LeNet 5\\\\English\\\\Img\\\\GoodImg\\\\Bmp\\\\Sample00'+str(i)\n",
    "        for imgfile in glob.iglob(os.path.join(src_dir, \"*.png\")):\n",
    "            img=Image.open(imgfile).convert('LA')\n",
    "            img.save('C:\\\\Users\\\\DELL\\\\Downloads\\\\LeNet 5\\\\English\\\\Final\\\\Sample00'+str(i)+'\\\\img001-0000'+str(count)+'.png')\n",
    "            count=count+1\n",
    "    if i>=10:\n",
    "        count=1\n",
    "        if not os.path.exists('C:\\\\Users\\\\DELL\\\\Downloads\\\\LeNet 5\\\\English\\Final\\\\Sample0'+str(i)):\n",
    "            os.makedirs('C:\\\\Users\\\\DELL\\\\Downloads\\\\LeNet 5\\\\English\\Final\\\\Sample0'+str(i))\n",
    "        src_dir = 'C:\\\\Users\\\\DELL\\\\Downloads\\\\LeNet 5\\\\English\\\\Img\\\\GoodImg\\\\Bmp\\\\Sample0'+str(i)\n",
    "        for imgfile in glob.iglob(os.path.join(src_dir, \"*.png\")):\n",
    "            img=Image.open(imgfile).convert('LA')\n",
    "            img.save('C:\\\\Users\\\\DELL\\\\Downloads\\\\LeNet 5\\\\English\\\\Final\\\\Sample0'+str(i)+'\\\\img001-0000'+str(count)+'.png')\n",
    "            count=count+1\n",
    "    "
   ]
  },
  {
   "cell_type": "code",
   "execution_count": 43,
   "metadata": {},
   "outputs": [],
   "source": [
    "for i in np.arange(1,63):\n",
    "    if i<10:\n",
    "        count=1\n",
    "        if not os.path.exists('C:\\\\Users\\\\DELL\\\\Downloads\\\\LeNet 5\\\\English\\\\Final\\\\Sample00'+str(i)):\n",
    "            os.makedirs('C:\\\\Users\\\\DELL\\\\Downloads\\\\LeNet 5\\\\English\\Final\\\\Sample00'+str(i))\n",
    "        src_dir = 'C:\\\\Users\\\\DELL\\\\Downloads\\\\LeNet 5\\\\English\\\\Img\\\\BadImag\\\\Bmp\\\\Sample00'+str(i)\n",
    "        for imgfile in glob.iglob(os.path.join(src_dir, \"*.png\")):\n",
    "            img=Image.open(imgfile).convert('LA')\n",
    "            img.save('C:\\\\Users\\\\DELL\\\\Downloads\\\\LeNet 5\\\\English\\\\Final\\\\Sample00'+str(i)+'\\\\img001-00000'+str(count)+'.png')\n",
    "            count=count+1\n",
    "    if i>=10:\n",
    "        count=1\n",
    "        if not os.path.exists('C:\\\\Users\\\\DELL\\\\Downloads\\\\LeNet 5\\\\English\\Final\\\\Sample0'+str(i)):\n",
    "            os.makedirs('C:\\\\Users\\\\DELL\\\\Downloads\\\\LeNet 5\\\\English\\Final\\\\Sample0'+str(i))\n",
    "        src_dir = 'C:\\\\Users\\\\DELL\\\\Downloads\\\\LeNet 5\\\\English\\\\Img\\\\BadImag\\\\Bmp\\\\Sample0'+str(i)\n",
    "        for imgfile in glob.iglob(os.path.join(src_dir, \"*.png\")):\n",
    "            img=Image.open(imgfile).convert('LA')\n",
    "            img.save('C:\\\\Users\\\\DELL\\\\Downloads\\\\LeNet 5\\\\English\\\\Final\\\\Sample0'+str(i)+'\\\\img001-00000'+str(count)+'.png')\n",
    "            count=count+1\n",
    "    "
   ]
  },
  {
   "cell_type": "code",
   "execution_count": 44,
   "metadata": {},
   "outputs": [],
   "source": [
    "for i in np.arange(1,63):\n",
    "    if i<10:\n",
    "        count=1\n",
    "        if not os.path.exists('C:\\\\Users\\\\DELL\\\\Downloads\\\\LeNet 5\\\\English\\\\Final\\\\Sample00'+str(i)):\n",
    "            os.makedirs('C:\\\\Users\\\\DELL\\\\Downloads\\\\LeNet 5\\\\English\\Final\\\\Sample00'+str(i))\n",
    "        src_dir = 'C:\\\\Users\\\\DELL\\\\Downloads\\\\LeNet 5\\\\English\\\\Hnd\\\\Img\\\\Sample00'+str(i)\n",
    "        for imgfile in glob.iglob(os.path.join(src_dir, \"*.png\")):\n",
    "            img=Image.open(imgfile).convert('LA')\n",
    "            img.save('C:\\\\Users\\\\DELL\\\\Downloads\\\\LeNet 5\\\\English\\\\Final\\\\Sample00'+str(i)+'\\\\img001-00'+str(count)+'.png')\n",
    "            count=count+1\n",
    "    if i>=10:\n",
    "        count=1\n",
    "        if not os.path.exists('C:\\\\Users\\\\DELL\\\\Downloads\\\\LeNet 5\\\\English\\Final\\\\Sample0'+str(i)):\n",
    "            os.makedirs('C:\\\\Users\\\\DELL\\\\Downloads\\\\LeNet 5\\\\English\\Final\\\\Sample0'+str(i))\n",
    "        src_dir = 'C:\\\\Users\\\\DELL\\\\Downloads\\\\LeNet 5\\\\English\\\\Hnd\\\\Img\\\\Sample0'+str(i)\n",
    "        for imgfile in glob.iglob(os.path.join(src_dir, \"*.png\")):\n",
    "            img=Image.open(imgfile).convert('LA')\n",
    "            img.save('C:\\\\Users\\\\DELL\\\\Downloads\\\\LeNet 5\\\\English\\\\Final\\\\Sample0'+str(i)+'\\\\img001-00'+str(count)+'.png')\n",
    "            count=count+1\n",
    "    "
   ]
  },
  {
   "cell_type": "code",
   "execution_count": 45,
   "metadata": {},
   "outputs": [],
   "source": [
    "for i in np.arange(1,63):\n",
    "    if i<10:\n",
    "        count=1\n",
    "        if not os.path.exists('C:\\\\Users\\\\DELL\\\\Downloads\\\\LeNet 5\\\\English\\\\Final\\\\Sample00'+str(i)):\n",
    "            os.makedirs('C:\\\\Users\\\\DELL\\\\Downloads\\\\LeNet 5\\\\English\\Final\\\\Sample00'+str(i))\n",
    "        src_dir = 'C:\\\\Users\\\\DELL\\\\Downloads\\\\LeNet 5\\\\English\\\\Fnt\\\\Sample00'+str(i)\n",
    "        for imgfile in glob.iglob(os.path.join(src_dir, \"*.png\")):\n",
    "            img=Image.open(imgfile).convert('LA')\n",
    "            img.save('C:\\\\Users\\\\DELL\\\\Downloads\\\\LeNet 5\\\\English\\\\Final\\\\Sample00'+str(i)+'\\\\img001-000'+str(count)+'.png')\n",
    "            count=count+1\n",
    "    if i>=10:\n",
    "        count=1\n",
    "        if not os.path.exists('C:\\\\Users\\\\DELL\\\\Downloads\\\\LeNet 5\\\\English\\Final\\\\Sample0'+str(i)):\n",
    "            os.makedirs('C:\\\\Users\\\\DELL\\\\Downloads\\\\LeNet 5\\\\English\\Final\\\\Sample0'+str(i))\n",
    "        src_dir = 'C:\\\\Users\\\\DELL\\\\Downloads\\\\LeNet 5\\\\English\\\\Fnt\\\\Sample0'+str(i)\n",
    "        for imgfile in glob.iglob(os.path.join(src_dir, \"*.png\")):\n",
    "            img=Image.open(imgfile).convert('LA')\n",
    "            img.save('C:\\\\Users\\\\DELL\\\\Downloads\\\\LeNet 5\\\\English\\\\Final\\\\Sample0'+str(i)+'\\\\img001-000'+str(count)+'.png')\n",
    "            count=count+1\n",
    "    "
   ]
  },
  {
   "cell_type": "code",
   "execution_count": 28,
   "metadata": {},
   "outputs": [],
   "source": [
    "import random\n",
    "pattern=['0','1','2','3','4','5','6','7','8','9','A','B','C','D','E','F','G','H','I','J','K','L','M','N','O','P','Q','R','S','T','U','V','W','X','Y','Z']"
   ]
  },
  {
   "cell_type": "code",
   "execution_count": 5,
   "metadata": {},
   "outputs": [],
   "source": [
    "#Dividing the dataset into test and train ing set\n",
    "for i in np.arange(36):\n",
    "       # src_dir = 'C:\\\\Users\\\\DELL\\\\Downloads\\\\LeNet 5\\\\English\\\\Final\\\\'+Patterns[i]\n",
    "       # dst_dir = 'C:\\\\Users\\\\DELL\\\\Downloads\\\\LeNet 5\\\\English\\\\test\\\\'+Patterns[i]\n",
    "        if not os.path.exists(dst_dir):\n",
    "            os.makedirs(dst_dir)\n",
    "        imgfiles=list(glob.iglob(os.path.join(src_dir, \"*.png\")))\n",
    "        length=len(imgfiles)\n",
    "        data=random.sample(range(0,length),int(length/5))\n",
    "        for i in data:\n",
    "            shutil.move(imgfiles[i], dst_dir)\n"
   ]
  }
 ],
 "metadata": {
  "kernelspec": {
   "display_name": "Python 3",
   "language": "python",
   "name": "python3"
  },
  "language_info": {
   "codemirror_mode": {
    "name": "ipython",
    "version": 3
   },
   "file_extension": ".py",
   "mimetype": "text/x-python",
   "name": "python",
   "nbconvert_exporter": "python",
   "pygments_lexer": "ipython3",
   "version": "3.6.4"
  }
 },
 "nbformat": 4,
 "nbformat_minor": 2
}
